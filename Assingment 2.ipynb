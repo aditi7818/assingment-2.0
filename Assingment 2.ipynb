{
 "cells": [
  {
   "cell_type": "code",
   "execution_count": null,
   "id": "2845e1b1-2059-4cc5-b2bc-f887b508248a",
   "metadata": {},
   "outputs": [],
   "source": [
    "Question: Which keyword is used to create a function? create a function to return a list of odd numbers in the range of 1 to 25.\n",
    "Answer: The def keyword is used to create, (or define) a function.\n",
    "\n",
    "A function return a list of odd numbers in the range of 1 to 25:\n",
    "def odd_numbers(n):\n",
    "    return[x for x in range(n+1) if x % 2==1]\n",
    "print(odd_numbers(25))"
   ]
  },
  {
   "cell_type": "code",
   "execution_count": null,
   "id": "4512efd5-d089-4677-8ab0-a1bd93bb806f",
   "metadata": {},
   "outputs": [],
   "source": [
    "Question 2: Why *args and **kwargs is used in some function? create a function each for *args and **kwargs to demonstrate thier use.\n",
    "Answer: use of *args: *args allows us to pass a variable number of non-keyword arguments to a phyton function.\n",
    "function of args:\n",
    "def add(*numbers):\n",
    "    total=0\n",
    "    for num in numbers:\n",
    "        total += num\n",
    "    print(add(3,4,5,66,7))\n",
    "    \n",
    "use of **kwargs: **kwargs allows us to pass a variable number of keyword arguments to a phyton function.\n",
    "function of kwargs:\n",
    "def total_fruits(**fruits):\n",
    "    total=0\n",
    "    for amount in fuits.values():\n",
    "        total += amount\n",
    "    return total\n",
    "print(total_fruits(banana=5, mango=7, apple=8))"
   ]
  },
  {
   "cell_type": "code",
   "execution_count": 1,
   "id": "58d612cf-23b5-40cb-89ad-93df9a2c1e7f",
   "metadata": {},
   "outputs": [],
   "source": [
    "Question: What is an iterator in python?name the method used to initialise object the iterator object and the method used for iteration.\n",
    "use these methods to print the first five elements of the given list[2,4,6,8,10,12,14,16,18,20]\n",
    "Answer:In python, an iterator is an object that allows you to iterate over collections of data, such as lists, tuples, dictionaries, and sets. \n",
    "      the python iterators object is initialized using the iter() method.\n",
    "    it uses the next() method for iteration.\n",
    "    \n",
    "Method use to print first five elements:\n",
    "    elements= [2,4,6,8,10,12,14,16,18,20]\n",
    "    ab_iterator = iter(elements)\n",
    "    print(next(ab_iterator))\n",
    "    print(next(ab_iterator))\n",
    "    print(next(ab_iterator))\n",
    "    print(next(ab_iterator))\n",
    "    print(next(ab_iterator))"
   ]
  },
  {
   "cell_type": "code",
   "execution_count": null,
   "id": "a4ddbca4-4760-47d9-bec3-124d3db79a54",
   "metadata": {},
   "outputs": [],
   "source": [
    "Question: what is a generator function in python? why yield keyword is used? give an eample of a generator function.\n",
    "\n",
    "Answer: A python generator function allows you to declare a function that behave like an iterator, providing a faster and easier way to create iterators.\n",
    "       they can be used on an abstract container of data to turn it into an iterable object like lists, dictionaries and strings.\n",
    "    the yield keyword in python controls the flow of a generator function.\n",
    "    \n",
    "Example:\n",
    "    def get_odd_numbers():\n",
    "        n=1\n",
    "        n+=2\n",
    "        yield n\n",
    "        n+=2\n",
    "        yield n \n",
    "        n+=2\n",
    "        yield n\n",
    "    numbers= get_odd_numbers()\n",
    "    print(next(numbers))\n",
    "    print(next(numbers))\n",
    "    print(next(numbers))"
   ]
  },
  {
   "cell_type": "code",
   "execution_count": null,
   "id": "af199c99-1465-4089-94b5-c1300f09864c",
   "metadata": {},
   "outputs": [],
   "source": [
    "Quetion: Create a generator function for prime numbers less than 1000. use the next() method to print the first 20 prime numbers.\n",
    "Answer: \n",
    "lower_value = int(input(\"please, Enter the lowest range value\"))\n",
    "upper_value= int(input(\"please, enter the upper rznge value\"))\n",
    "print(\"the prime numbers in the range are:\")\n",
    "if number>1:\n",
    "    if (number % i)==0:\n",
    "        break\n",
    "    else:\n",
    "        print(number)\n"
   ]
  },
  {
   "cell_type": "code",
   "execution_count": null,
   "id": "412bdaa6-74fb-4f90-a731-f6714a00f074",
   "metadata": {},
   "outputs": [],
   "source": [
    "Question: Write a python program to print the first 10 fibonacci numbers using while loop.\n",
    "answer: \n",
    "num = int(input(\"enter your number you are looking for\"))\n",
    "a,b=0\n",
    "counter=0\n",
    "while counter< number:\n",
    "    c = a+b\n",
    "    a=b\n",
    "    b=c\n",
    "    counter= counter +1"
   ]
  },
  {
   "cell_type": "code",
   "execution_count": null,
   "id": "21232e5e-38a9-4aca-ad66-027d0e6b15ea",
   "metadata": {},
   "outputs": [],
   "source": [
    "Question: Write a list comprehension to iterate through the given string:'pwskills'\n",
    "expected output:['p','w','s','k','i','l','l','s']\n",
    "\n",
    "answer: \n",
    "h_letter= []\n",
    "for letter in 'pwskills':\n",
    "    h_letter.append(letter)\n",
    "print(h_letters)"
   ]
  },
  {
   "cell_type": "code",
   "execution_count": null,
   "id": "a7171b08-2f93-47eb-ad76-628c462d865a",
   "metadata": {},
   "outputs": [],
   "source": [
    "Question: Write a python program to check whether a given number is palindrome or not using a while loop.\n",
    "\n",
    "Answer:\n",
    "num = int(input(\"enter your value\"))\n",
    "temp = num\n",
    "rev =0\n",
    "while(num>0):\n",
    "    dig= num% 10\n",
    "    revrev = rev*10+ dig\n",
    "    numnum = num//10\n",
    "if(temp==rev):\n",
    "    print('this value is palindrome number!\")\n",
    "else:\n",
    "          print(\"this value is not palindrome!\")"
   ]
  },
  {
   "cell_type": "code",
   "execution_count": null,
   "id": "62fabc12-6b37-4901-9c33-37e1eee2cfcc",
   "metadata": {},
   "outputs": [],
   "source": [
    "question: Write a code to print odd numbers from 1 to 100 using list comprehension.\n",
    "Answer: \n",
    "odd_list = [element for element in range(1, 101) if element % 2==1]\n",
    "print(odd_list)"
   ]
  },
  {
   "cell_type": "code",
   "execution_count": null,
   "id": "68c42c7b-0981-4adc-8715-ac51e80a0238",
   "metadata": {},
   "outputs": [],
   "source": [
    "98+5854"
   ]
  },
  {
   "cell_type": "code",
   "execution_count": null,
   "id": "3ffb2076-cab5-433c-b343-080198c49a40",
   "metadata": {},
   "outputs": [],
   "source": [
    "463-86"
   ]
  },
  {
   "cell_type": "code",
   "execution_count": null,
   "id": "9dc0e963-a355-47a8-9bfb-d92569c18607",
   "metadata": {},
   "outputs": [],
   "source": []
  },
  {
   "cell_type": "code",
   "execution_count": null,
   "id": "16153a49-6a32-4903-aca6-67d9e6d87d13",
   "metadata": {},
   "outputs": [],
   "source": [
    "\n",
    "\n"
   ]
  },
  {
   "cell_type": "code",
   "execution_count": null,
   "id": "d9a3b36d-a44f-4c0b-961f-9580fb9506b5",
   "metadata": {},
   "outputs": [],
   "source": []
  },
  {
   "cell_type": "code",
   "execution_count": null,
   "id": "6c3cdd1a-cd21-415e-8b1c-81e229e4aad8",
   "metadata": {},
   "outputs": [],
   "source": []
  },
  {
   "cell_type": "code",
   "execution_count": null,
   "id": "178ebedb-b275-4cb2-8ecc-e96299358802",
   "metadata": {},
   "outputs": [],
   "source": []
  },
  {
   "cell_type": "code",
   "execution_count": null,
   "id": "345e46b0-0970-46d8-a913-c5aa2728b8ff",
   "metadata": {},
   "outputs": [],
   "source": []
  },
  {
   "cell_type": "code",
   "execution_count": null,
   "id": "d96c79a9-258d-4723-9d76-9dbc74090558",
   "metadata": {},
   "outputs": [],
   "source": []
  },
  {
   "cell_type": "code",
   "execution_count": null,
   "id": "3064dfe1-af4e-4b9f-9d0a-0371037ed1d5",
   "metadata": {},
   "outputs": [],
   "source": []
  },
  {
   "cell_type": "code",
   "execution_count": null,
   "id": "4db7ec36-03ea-487f-b80b-b2a6e41bf1a3",
   "metadata": {},
   "outputs": [],
   "source": []
  },
  {
   "cell_type": "code",
   "execution_count": null,
   "id": "0ff5626b-11ff-4f0a-a8be-eda2f428b04f",
   "metadata": {},
   "outputs": [],
   "source": []
  },
  {
   "cell_type": "code",
   "execution_count": null,
   "id": "5f03b5df-9fb9-480d-8372-68c5b805d79a",
   "metadata": {},
   "outputs": [],
   "source": []
  },
  {
   "cell_type": "code",
   "execution_count": null,
   "id": "410c6986-8fee-4e2d-ad95-7ddcc0e4fb26",
   "metadata": {},
   "outputs": [],
   "source": []
  },
  {
   "cell_type": "code",
   "execution_count": null,
   "id": "3088ee25-8ae4-45ad-9e96-b5fb3cb05075",
   "metadata": {},
   "outputs": [],
   "source": []
  },
  {
   "cell_type": "code",
   "execution_count": null,
   "id": "2b110399-8e0c-4421-9d02-551c0686c7a6",
   "metadata": {},
   "outputs": [],
   "source": []
  },
  {
   "cell_type": "code",
   "execution_count": null,
   "id": "2d1d1ac4-08f7-422b-bb38-c55f8996cab1",
   "metadata": {},
   "outputs": [],
   "source": []
  },
  {
   "cell_type": "code",
   "execution_count": null,
   "id": "3e673eec-feb4-48cc-ab46-c11b760952d3",
   "metadata": {},
   "outputs": [],
   "source": []
  },
  {
   "cell_type": "code",
   "execution_count": null,
   "id": "ef1169c5-dc84-4375-b736-c86574175d65",
   "metadata": {},
   "outputs": [],
   "source": []
  },
  {
   "cell_type": "code",
   "execution_count": null,
   "id": "727d4af3-96ec-4e3e-9188-39c8cb263098",
   "metadata": {},
   "outputs": [],
   "source": []
  },
  {
   "cell_type": "code",
   "execution_count": null,
   "id": "508933e7-84cf-4100-8531-e16cbd3d5c6b",
   "metadata": {},
   "outputs": [],
   "source": []
  },
  {
   "cell_type": "code",
   "execution_count": null,
   "id": "fc752d58-9f99-43f0-9bea-c7ac44e06098",
   "metadata": {},
   "outputs": [],
   "source": []
  },
  {
   "cell_type": "code",
   "execution_count": null,
   "id": "e141276f-3543-45ed-a05b-809c634858c3",
   "metadata": {},
   "outputs": [],
   "source": []
  },
  {
   "cell_type": "code",
   "execution_count": null,
   "id": "880ac163-4e6d-4df4-8dfd-a33fecb86fd1",
   "metadata": {},
   "outputs": [],
   "source": []
  },
  {
   "cell_type": "code",
   "execution_count": null,
   "id": "7b3590e6-d0d7-4170-b5ef-23fd9a2279de",
   "metadata": {},
   "outputs": [],
   "source": []
  },
  {
   "cell_type": "code",
   "execution_count": null,
   "id": "149d2153-697f-42e1-9692-11a4ebfc2f80",
   "metadata": {},
   "outputs": [],
   "source": []
  },
  {
   "cell_type": "code",
   "execution_count": null,
   "id": "3fac0f1a-9322-4ce7-b68a-a1c84279ce33",
   "metadata": {},
   "outputs": [],
   "source": []
  },
  {
   "cell_type": "code",
   "execution_count": null,
   "id": "62aa9671-7269-4a19-96a5-d96edfc4fe34",
   "metadata": {},
   "outputs": [],
   "source": []
  },
  {
   "cell_type": "code",
   "execution_count": null,
   "id": "cc34cedf-c403-46eb-ba6b-acd92cedff82",
   "metadata": {},
   "outputs": [],
   "source": []
  },
  {
   "cell_type": "code",
   "execution_count": null,
   "id": "f577654e-0344-4fe9-8bba-859afcdf897b",
   "metadata": {},
   "outputs": [],
   "source": []
  },
  {
   "cell_type": "code",
   "execution_count": null,
   "id": "ee237e00-8fad-4e4d-be52-8f52e056628e",
   "metadata": {},
   "outputs": [],
   "source": []
  },
  {
   "cell_type": "code",
   "execution_count": null,
   "id": "f70343b4-a41f-49bd-b27d-5cd44c792615",
   "metadata": {},
   "outputs": [],
   "source": []
  },
  {
   "cell_type": "code",
   "execution_count": null,
   "id": "becf3b3c-7842-49f2-a9b5-b0b9be1b269f",
   "metadata": {},
   "outputs": [],
   "source": []
  },
  {
   "cell_type": "code",
   "execution_count": null,
   "id": "1272e883-6a6a-4463-aa55-3ff2c75a5b3a",
   "metadata": {},
   "outputs": [],
   "source": []
  },
  {
   "cell_type": "code",
   "execution_count": null,
   "id": "a880f55c-70b2-4046-a8cb-e880e6bb9ab9",
   "metadata": {},
   "outputs": [],
   "source": []
  },
  {
   "cell_type": "code",
   "execution_count": null,
   "id": "98d2a162-adc8-440f-b58e-0203e8ec7e6a",
   "metadata": {},
   "outputs": [],
   "source": []
  },
  {
   "cell_type": "code",
   "execution_count": null,
   "id": "38c9ad23-e565-4b12-b8f9-0c8e109c88e6",
   "metadata": {},
   "outputs": [],
   "source": []
  },
  {
   "cell_type": "code",
   "execution_count": null,
   "id": "440ac533-3b69-4c03-8258-ed2c64d73324",
   "metadata": {},
   "outputs": [],
   "source": []
  },
  {
   "cell_type": "code",
   "execution_count": null,
   "id": "54730a19-7137-4074-b2a7-deb870836233",
   "metadata": {},
   "outputs": [],
   "source": []
  },
  {
   "cell_type": "code",
   "execution_count": null,
   "id": "91334f33-f1d3-4758-8448-fa43bfae6b0a",
   "metadata": {},
   "outputs": [],
   "source": []
  },
  {
   "cell_type": "code",
   "execution_count": null,
   "id": "29942ba1-4595-48a2-bc34-64f76ef223d8",
   "metadata": {},
   "outputs": [],
   "source": []
  },
  {
   "cell_type": "code",
   "execution_count": null,
   "id": "eccce804-dca0-4241-b5a4-f8ab158a146a",
   "metadata": {},
   "outputs": [],
   "source": []
  },
  {
   "cell_type": "code",
   "execution_count": null,
   "id": "808890fe-0473-40bc-8a40-be0d08528548",
   "metadata": {},
   "outputs": [],
   "source": []
  },
  {
   "cell_type": "code",
   "execution_count": null,
   "id": "2fdb4285-dd87-4a7e-8477-02d510293b8f",
   "metadata": {},
   "outputs": [],
   "source": []
  },
  {
   "cell_type": "code",
   "execution_count": null,
   "id": "7ce9ac5f-8f71-4d0b-a28d-f821cc7a8c88",
   "metadata": {},
   "outputs": [],
   "source": []
  },
  {
   "cell_type": "code",
   "execution_count": null,
   "id": "5b611a8b-6673-49d8-a2fd-da172c628252",
   "metadata": {},
   "outputs": [],
   "source": []
  },
  {
   "cell_type": "code",
   "execution_count": null,
   "id": "3a2e536d-7c93-45cf-bdf5-e59e0df8916d",
   "metadata": {},
   "outputs": [],
   "source": [
    "\n"
   ]
  },
  {
   "cell_type": "code",
   "execution_count": null,
   "id": "881ca2e5-d003-4d56-aa4b-d5583814652b",
   "metadata": {},
   "outputs": [],
   "source": []
  },
  {
   "cell_type": "code",
   "execution_count": null,
   "id": "01519ce3-e04e-480b-98a6-3a30fe89bb1d",
   "metadata": {},
   "outputs": [],
   "source": [
    "\n"
   ]
  },
  {
   "cell_type": "code",
   "execution_count": null,
   "id": "ed0a9c3d-0a60-4156-b830-df879a5e9ab7",
   "metadata": {},
   "outputs": [],
   "source": []
  },
  {
   "cell_type": "code",
   "execution_count": null,
   "id": "d850e060-de75-4a12-8499-566649beacf0",
   "metadata": {},
   "outputs": [],
   "source": [
    "\n"
   ]
  },
  {
   "cell_type": "code",
   "execution_count": null,
   "id": "7d5b8485-e7d9-4a90-b62e-ca11109bf499",
   "metadata": {},
   "outputs": [],
   "source": []
  }
 ],
 "metadata": {
  "kernelspec": {
   "display_name": "Python 3 (ipykernel)",
   "language": "python",
   "name": "python3"
  },
  "language_info": {
   "codemirror_mode": {
    "name": "ipython",
    "version": 3
   },
   "file_extension": ".py",
   "mimetype": "text/x-python",
   "name": "python",
   "nbconvert_exporter": "python",
   "pygments_lexer": "ipython3",
   "version": "3.10.8"
  }
 },
 "nbformat": 4,
 "nbformat_minor": 5
}
